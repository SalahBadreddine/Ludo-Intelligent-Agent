{
 "cells": [
  {
   "cell_type": "markdown",
   "id": "4ebf0d47-3e56-4f04-ad60-9c1697566154",
   "metadata": {},
   "source": [
    "## Welcome to Ludo Intelligent agent's Notebook \n",
    "### Infos about the developer \n",
    "#### Badreddine Salah "
   ]
  },
  {
   "cell_type": "code",
   "execution_count": 8,
   "id": "a5c8b55e-0c46-4ba6-a793-8f87d39c2604",
   "metadata": {},
   "outputs": [],
   "source": [
    "board = [0] * 52  # Main track (0 means empty, numbers indicate player tokens)\n",
    "home_paths = {\n",
    "    1: [None] * 6,  # Home path for Player 1\n",
    "    2: [None] * 6,  # Home path for Player 2\n",
    "    3: [None] * 6,  # Home path for Player 3\n",
    "    4: [None] * 6   # Home path for Player 4\n",
    "}\n",
    "# This array keeps track of player's current position \n",
    "safe_zones = {\n",
    "    1: [-1, -1, -1, -1],  # Player 1's tokens before entering the board\n",
    "    2: [-1, -1, -1, -1],  # Player 2 //\n",
    "    3: [-1, -1, -1, -1],  # Player 3 //\n",
    "    4: [-1, -1, -1, -1]   # Player 4 //\n",
    "}"
   ]
  },
  {
   "cell_type": "code",
   "execution_count": 9,
   "id": "ed9b989b-74b8-4e04-9513-74f5f3325457",
   "metadata": {},
   "outputs": [],
   "source": [
    "def move_token(player_id, token_index, dice_roll):\n",
    "    position = safe_zones[player_id][token_index]  # Get token's current position\n",
    "\n",
    "    # If token is in the safe zone and rolls a 6, move it to the start position\n",
    "    if position == -1 and dice_roll == 6:\n",
    "        start_positions = {1: 0, 2: 13, 3: 26, 4: 39}\n",
    "        new_position = start_positions[player_id]\n",
    "        safe_zones[player_id][token_index] = new_position\n",
    "        board[new_position] = player_id\n",
    "        return\n",
    "\n",
    "    # If token is on the board, calculate new position\n",
    "    if position >= 0:\n",
    "        new_position = (position + dice_roll) % 52\n",
    "\n",
    "        # Check for captures\n",
    "        if board[new_position] not in (0, player_id):\n",
    "            opponent = board[new_position]\n",
    "            for i in range(4):  # Find the opponent's token and send it back\n",
    "                if safe_zones[opponent][i] == new_position:\n",
    "                    safe_zones[opponent][i] = -1  # Send back to start\n",
    "\n",
    "        # Move token\n",
    "        board[position] = 0  # Clear old position\n",
    "        board[new_position] = player_id\n",
    "        safe_zones[player_id][token_index] = new_position"
   ]
  },
  {
   "cell_type": "code",
   "execution_count": 10,
   "id": "9ddfde77-6dd0-44f1-9f8c-55c27c045dc8",
   "metadata": {},
   "outputs": [],
   "source": [
    "def check_win(player_id):\n",
    "    return all(pos == \"home\" for pos in home_paths[player_id])"
   ]
  },
  {
   "cell_type": "code",
   "execution_count": 11,
   "id": "5fe1b268-ab11-4c03-8a4b-ee981f6faf4d",
   "metadata": {},
   "outputs": [],
   "source": [
    "def agent_move(player_id, dice_roll):\n",
    "    # Rule 1: If a token is in the safe zone and can enter the board, do that\n",
    "    for i in range(4):\n",
    "        if safe_zones[player_id][i] == -1 and dice_roll == 6:\n",
    "            move_token(player_id, i, dice_roll)\n",
    "            return\n",
    "\n",
    "    # Rule 2: Try to capture an opponent if possible\n",
    "    for i in range(4):\n",
    "        current_pos = safe_zones[player_id][i]\n",
    "        if current_pos >= 0:\n",
    "            new_pos = (current_pos + dice_roll) % 52\n",
    "            if board[new_pos] not in (0, player_id):  # Opponent is present there ! a chance to kill hehe\n",
    "                move_token(player_id, i, dice_roll)\n",
    "                return\n",
    "                \n",
    "    # Rule 3: Avoid getting ctached by other players -> choose the safest option if available \n",
    "    for i in range(4):\n",
    "        current_pos = safe_zones[player_id][i]\n",
    "        if current_pos >= 0:\n",
    "            new_pos = (current_pos + dice_roll)%52\n",
    "            test = True\n",
    "            for j in range(1, 6):\n",
    "                if board[(new_pos-j)%52] not in (0, player_id):\n",
    "                    test = False\n",
    "            if (test):\n",
    "                move_token(player_id, i, dice_roll)\n",
    "\n",
    "    # Rule 4: Using probabilities, let's check how closely a player can catch you !\n",
    "    all_players = [1, 2, 3, 4]\n",
    "    oponents = [p for p in all_players if p != player_id];\n",
    "    for i in range(4):\n",
    "        current_pos = safe_zones[player_id][i]\n",
    "        if current_pos >= 0:\n",
    "            probabilities = [0] * 3\n",
    "            new_pos = (current_pos + dice_roll) % 52\n",
    "            index = 0\n",
    "            for j in oponents:\n",
    "                for k in range(1, 6):\n",
    "                    if board[(new_pos-k)%52] == j:\n",
    "                        probabilities[index] += 1/6\n",
    "                index += 1\n",
    "            test = True\n",
    "            for t in range(3):\n",
    "               if probabilities[t] > 1/6: # there is an oponent with a high chance to kill you, so avoid !\n",
    "                   test = False\n",
    "            if test:\n",
    "                move_token(player_id, i, dice_roll)\n",
    "            \n",
    "    \n",
    "                \n",
    "    # Rule 5: Move the farthest token forward -> Worst Case !!!\n",
    "    farthest_token = max(safe_zones[player_id])\n",
    "    if farthest_token >= 0:\n",
    "        index = safe_zones[player_id].index(farthest_token)\n",
    "        move_token(player_id, index, dice_roll)"
   ]
  },
  {
   "cell_type": "code",
   "execution_count": null,
   "id": "1101e284-7d54-43be-b6a7-ec7c61368fa9",
   "metadata": {},
   "outputs": [
    {
     "name": "stdout",
     "output_type": "stream",
     "text": [
      "Starting the game...\n",
      "\n"
     ]
    },
    {
     "name": "stdin",
     "output_type": "stream",
     "text": [
      "Player 1's turn. Press Enter to roll the dice... \n"
     ]
    },
    {
     "name": "stdout",
     "output_type": "stream",
     "text": [
      "Player 1 rolled a 6\n",
      "\n",
      "Board State:\n",
      "1 . . . . . . . . . . . . . . . . . . . . . . . . . . . . . . . . . . . . . . . . . . . . . . . . . . .\n",
      "\n",
      "Safe Zones:\n",
      "Player 1: [0, -1, -1, -1]\n",
      "Player 2: [-1, -1, -1, -1]\n",
      "Player 3: [-1, -1, -1, -1]\n",
      "Player 4: [-1, -1, -1, -1]\n"
     ]
    },
    {
     "name": "stdin",
     "output_type": "stream",
     "text": [
      "Player 2's turn. Press Enter to roll the dice... \n"
     ]
    },
    {
     "name": "stdout",
     "output_type": "stream",
     "text": [
      "Player 2 rolled a 4\n",
      "\n",
      "Board State:\n",
      "1 . . . . . . . . . . . . . . . . . . . . . . . . . . . . . . . . . . . . . . . . . . . . . . . . . . .\n",
      "\n",
      "Safe Zones:\n",
      "Player 1: [0, -1, -1, -1]\n",
      "Player 2: [-1, -1, -1, -1]\n",
      "Player 3: [-1, -1, -1, -1]\n",
      "Player 4: [-1, -1, -1, -1]\n"
     ]
    },
    {
     "name": "stdin",
     "output_type": "stream",
     "text": [
      "Player 3's turn. Press Enter to roll the dice... \n"
     ]
    },
    {
     "name": "stdout",
     "output_type": "stream",
     "text": [
      "Player 3 rolled a 2\n",
      "\n",
      "Board State:\n",
      "1 . . . . . . . . . . . . . . . . . . . . . . . . . . . . . . . . . . . . . . . . . . . . . . . . . . .\n",
      "\n",
      "Safe Zones:\n",
      "Player 1: [0, -1, -1, -1]\n",
      "Player 2: [-1, -1, -1, -1]\n",
      "Player 3: [-1, -1, -1, -1]\n",
      "Player 4: [-1, -1, -1, -1]\n"
     ]
    },
    {
     "name": "stdin",
     "output_type": "stream",
     "text": [
      "Player 4's turn. Press Enter to roll the dice... \n"
     ]
    },
    {
     "name": "stdout",
     "output_type": "stream",
     "text": [
      "Player 4 rolled a 3\n",
      "\n",
      "Board State:\n",
      "1 . . . . . . . . . . . . . . . . . . . . . . . . . . . . . . . . . . . . . . . . . . . . . . . . . . .\n",
      "\n",
      "Safe Zones:\n",
      "Player 1: [0, -1, -1, -1]\n",
      "Player 2: [-1, -1, -1, -1]\n",
      "Player 3: [-1, -1, -1, -1]\n",
      "Player 4: [-1, -1, -1, -1]\n"
     ]
    },
    {
     "name": "stdin",
     "output_type": "stream",
     "text": [
      "Player 1's turn. Press Enter to roll the dice... \n"
     ]
    },
    {
     "name": "stdout",
     "output_type": "stream",
     "text": [
      "Player 1 rolled a 6\n",
      "\n",
      "Board State:\n",
      "1 . . . . . . . . . . . . . . . . . . . . . . . . . . . . . . . . . . . . . . . . . . . . . . . . . . .\n",
      "\n",
      "Safe Zones:\n",
      "Player 1: [0, 0, -1, -1]\n",
      "Player 2: [-1, -1, -1, -1]\n",
      "Player 3: [-1, -1, -1, -1]\n",
      "Player 4: [-1, -1, -1, -1]\n"
     ]
    }
   ],
   "source": [
    "import random\n",
    "import time\n",
    "\n",
    "def print_board():\n",
    "    board_visual = [str(x) if x != 0 else '.' for x in board]\n",
    "    print(\"\\nBoard State:\")\n",
    "    print(\" \".join(board_visual))\n",
    "    print(\"\\nSafe Zones:\")\n",
    "    for player, tokens in safe_zones.items():\n",
    "        print(f\"Player {player}: {tokens}\")\n",
    "\n",
    "def test_game():\n",
    "    players = [1, 2, 3, 4]\n",
    "    while True:\n",
    "        for player in players:\n",
    "            input(f\"Player {player}'s turn. Press Enter to roll the dice...\")\n",
    "            dice_roll = random.randint(1, 6)\n",
    "            print(f\"Player {player} rolled a {dice_roll}\")\n",
    "            agent_move(player, dice_roll)\n",
    "            print_board()\n",
    "            time.sleep(1)\n",
    "            \n",
    "            if check_win(player):\n",
    "                print(f\"Player {player} wins the game!\")\n",
    "                return\n",
    "\n",
    "if __name__ == \"__main__\":\n",
    "    print(\"Starting the game...\\n\")\n",
    "    test_game()"
   ]
  },
  {
   "cell_type": "code",
   "execution_count": null,
   "id": "211fbe2a-2de5-4c8d-a86a-cbcb4337422b",
   "metadata": {},
   "outputs": [],
   "source": []
  }
 ],
 "metadata": {
  "kernelspec": {
   "display_name": "Python 3 (ipykernel)",
   "language": "python",
   "name": "python3"
  },
  "language_info": {
   "codemirror_mode": {
    "name": "ipython",
    "version": 3
   },
   "file_extension": ".py",
   "mimetype": "text/x-python",
   "name": "python",
   "nbconvert_exporter": "python",
   "pygments_lexer": "ipython3",
   "version": "3.9.21"
  }
 },
 "nbformat": 4,
 "nbformat_minor": 5
}
